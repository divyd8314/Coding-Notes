{
 "cells": [
  {
   "cell_type": "code",
   "execution_count": 1,
   "id": "07827f0a-36be-4468-8752-6e3835184718",
   "metadata": {
    "editable": true,
    "slideshow": {
     "slide_type": ""
    },
    "tags": []
   },
   "outputs": [],
   "source": [
    "import pandas as pd"
   ]
  },
  {
   "cell_type": "code",
   "execution_count": 2,
   "id": "4239ebad-cf81-45ba-beeb-0a2d5218687b",
   "metadata": {},
   "outputs": [
    {
     "data": {
      "text/html": [
       "<div>\n",
       "<style scoped>\n",
       "    .dataframe tbody tr th:only-of-type {\n",
       "        vertical-align: middle;\n",
       "    }\n",
       "\n",
       "    .dataframe tbody tr th {\n",
       "        vertical-align: top;\n",
       "    }\n",
       "\n",
       "    .dataframe thead th {\n",
       "        text-align: right;\n",
       "    }\n",
       "</style>\n",
       "<table border=\"1\" class=\"dataframe\">\n",
       "  <thead>\n",
       "    <tr style=\"text-align: right;\">\n",
       "      <th></th>\n",
       "      <th>Age</th>\n",
       "      <th>Shoe Size</th>\n",
       "      <th>Eye Colour</th>\n",
       "      <th>Height (cm)</th>\n",
       "    </tr>\n",
       "  </thead>\n",
       "  <tbody>\n",
       "    <tr>\n",
       "      <th>Josh</th>\n",
       "      <td>15</td>\n",
       "      <td>9</td>\n",
       "      <td>Blue</td>\n",
       "      <td>182</td>\n",
       "    </tr>\n",
       "    <tr>\n",
       "      <th>Tim</th>\n",
       "      <td>19</td>\n",
       "      <td>11</td>\n",
       "      <td>Brown</td>\n",
       "      <td>167</td>\n",
       "    </tr>\n",
       "    <tr>\n",
       "      <th>Sarah</th>\n",
       "      <td>35</td>\n",
       "      <td>7</td>\n",
       "      <td>Blue</td>\n",
       "      <td>130</td>\n",
       "    </tr>\n",
       "    <tr>\n",
       "      <th>Cindy</th>\n",
       "      <td>11</td>\n",
       "      <td>5</td>\n",
       "      <td>Green</td>\n",
       "      <td>156</td>\n",
       "    </tr>\n",
       "  </tbody>\n",
       "</table>\n",
       "</div>"
      ],
      "text/plain": [
       "       Age  Shoe Size Eye Colour  Height (cm)\n",
       "Josh    15          9       Blue          182\n",
       "Tim     19         11      Brown          167\n",
       "Sarah   35          7       Blue          130\n",
       "Cindy   11          5      Green          156"
      ]
     },
     "execution_count": 2,
     "metadata": {},
     "output_type": "execute_result"
    }
   ],
   "source": [
    "#1) Create a DF\n",
    "people = pd.DataFrame({\n",
    "    'Age' : [15,19,35,11],\n",
    "    'Shoe Size' : [9,11,7,5],\n",
    "    'Eye Colour' : ['Blue','Brown','Blue','Green'],\n",
    "    'Height (cm)' : [182,167,130,156]},\n",
    "                      index = ['Josh','Tim','Sarah','Cindy'])\n",
    "people"
   ]
  },
  {
   "cell_type": "code",
   "execution_count": 8,
   "id": "28c791ab-cb6d-4b59-bec1-b3a34390bb15",
   "metadata": {},
   "outputs": [
    {
     "data": {
      "text/plain": [
       "80"
      ]
     },
     "execution_count": 8,
     "metadata": {},
     "output_type": "execute_result"
    }
   ],
   "source": [
    "#2) Total Cumulative Age\n",
    "sum = people['Age'].sum()\n",
    "sum"
   ]
  },
  {
   "cell_type": "code",
   "execution_count": 9,
   "id": "3d99bf21-192e-4baa-8e4f-a86ad5708096",
   "metadata": {},
   "outputs": [
    {
     "data": {
      "text/plain": [
       "20.0"
      ]
     },
     "execution_count": 9,
     "metadata": {},
     "output_type": "execute_result"
    }
   ],
   "source": [
    "#3) Mean Age\n",
    "mean_age = people['Age'].mean()\n",
    "mean_age"
   ]
  },
  {
   "cell_type": "code",
   "execution_count": 10,
   "id": "cb3d26dd-edff-4e99-9761-07fd8bdd5392",
   "metadata": {},
   "outputs": [
    {
     "data": {
      "text/plain": [
       "158.75"
      ]
     },
     "execution_count": 10,
     "metadata": {},
     "output_type": "execute_result"
    }
   ],
   "source": [
    "#4) Average Height\n",
    "mean_height = people['Height (cm)'].mean()\n",
    "mean_height"
   ]
  },
  {
   "cell_type": "code",
   "execution_count": 11,
   "id": "fe2bdbd7-f83f-4d5c-9fd7-b03ec991e449",
   "metadata": {},
   "outputs": [
    {
     "data": {
      "text/html": [
       "<div>\n",
       "<style scoped>\n",
       "    .dataframe tbody tr th:only-of-type {\n",
       "        vertical-align: middle;\n",
       "    }\n",
       "\n",
       "    .dataframe tbody tr th {\n",
       "        vertical-align: top;\n",
       "    }\n",
       "\n",
       "    .dataframe thead th {\n",
       "        text-align: right;\n",
       "    }\n",
       "</style>\n",
       "<table border=\"1\" class=\"dataframe\">\n",
       "  <thead>\n",
       "    <tr style=\"text-align: right;\">\n",
       "      <th></th>\n",
       "      <th>Wingspan</th>\n",
       "      <th>Hair Colour</th>\n",
       "    </tr>\n",
       "  </thead>\n",
       "  <tbody>\n",
       "    <tr>\n",
       "      <th>Josh</th>\n",
       "      <td>190</td>\n",
       "      <td>Brown</td>\n",
       "    </tr>\n",
       "    <tr>\n",
       "      <th>Tim</th>\n",
       "      <td>164</td>\n",
       "      <td>Blonde</td>\n",
       "    </tr>\n",
       "    <tr>\n",
       "      <th>Sarah</th>\n",
       "      <td>135</td>\n",
       "      <td>Brown</td>\n",
       "    </tr>\n",
       "    <tr>\n",
       "      <th>Cindy</th>\n",
       "      <td>160</td>\n",
       "      <td>Red</td>\n",
       "    </tr>\n",
       "  </tbody>\n",
       "</table>\n",
       "</div>"
      ],
      "text/plain": [
       "       Wingspan Hair Colour\n",
       "Josh        190       Brown\n",
       "Tim         164      Blonde\n",
       "Sarah       135       Brown\n",
       "Cindy       160         Red"
      ]
     },
     "execution_count": 11,
     "metadata": {},
     "output_type": "execute_result"
    }
   ],
   "source": [
    "#5) Create a new DF\n",
    "more_on_people = pd.DataFrame({\n",
    "    'Wingspan' : [190,164,135,160],\n",
    "    'Hair Colour' : ['Brown','Blonde','Brown','Red']},\n",
    "                             index = ['Josh','Tim','Sarah','Cindy'])\n",
    "more_on_people"
   ]
  },
  {
   "cell_type": "code",
   "execution_count": 7,
   "id": "74692272-eb9f-4e39-bb89-b38b86eceabe",
   "metadata": {},
   "outputs": [
    {
     "data": {
      "text/html": [
       "<div>\n",
       "<style scoped>\n",
       "    .dataframe tbody tr th:only-of-type {\n",
       "        vertical-align: middle;\n",
       "    }\n",
       "\n",
       "    .dataframe tbody tr th {\n",
       "        vertical-align: top;\n",
       "    }\n",
       "\n",
       "    .dataframe thead th {\n",
       "        text-align: right;\n",
       "    }\n",
       "</style>\n",
       "<table border=\"1\" class=\"dataframe\">\n",
       "  <thead>\n",
       "    <tr style=\"text-align: right;\">\n",
       "      <th></th>\n",
       "      <th>Age</th>\n",
       "      <th>Shoe Size</th>\n",
       "      <th>Eye Colour</th>\n",
       "      <th>Height (cm)</th>\n",
       "      <th>Wingspan</th>\n",
       "      <th>Hair Colour</th>\n",
       "    </tr>\n",
       "  </thead>\n",
       "  <tbody>\n",
       "    <tr>\n",
       "      <th>Josh</th>\n",
       "      <td>15</td>\n",
       "      <td>9</td>\n",
       "      <td>Blue</td>\n",
       "      <td>182</td>\n",
       "      <td>190</td>\n",
       "      <td>Brown</td>\n",
       "    </tr>\n",
       "    <tr>\n",
       "      <th>Tim</th>\n",
       "      <td>19</td>\n",
       "      <td>11</td>\n",
       "      <td>Brown</td>\n",
       "      <td>167</td>\n",
       "      <td>164</td>\n",
       "      <td>Blonde</td>\n",
       "    </tr>\n",
       "    <tr>\n",
       "      <th>Sarah</th>\n",
       "      <td>35</td>\n",
       "      <td>7</td>\n",
       "      <td>Blue</td>\n",
       "      <td>130</td>\n",
       "      <td>135</td>\n",
       "      <td>Brown</td>\n",
       "    </tr>\n",
       "    <tr>\n",
       "      <th>Cindy</th>\n",
       "      <td>11</td>\n",
       "      <td>5</td>\n",
       "      <td>Green</td>\n",
       "      <td>156</td>\n",
       "      <td>160</td>\n",
       "      <td>Red</td>\n",
       "    </tr>\n",
       "  </tbody>\n",
       "</table>\n",
       "</div>"
      ],
      "text/plain": [
       "       Age  Shoe Size Eye Colour  Height (cm)  Wingspan Hair Colour\n",
       "Josh    15          9       Blue          182       190       Brown\n",
       "Tim     19         11      Brown          167       164      Blonde\n",
       "Sarah   35          7       Blue          130       135       Brown\n",
       "Cindy   11          5      Green          156       160         Red"
      ]
     },
     "execution_count": 7,
     "metadata": {},
     "output_type": "execute_result"
    }
   ],
   "source": [
    "#6) Merge two DFs\n",
    "pd.concat([people, more_on_people], axis = 1, sort = False)"
   ]
  },
  {
   "cell_type": "code",
   "execution_count": null,
   "id": "2b01cbd3-38e5-4ac5-8b34-e3f43d9a21f3",
   "metadata": {},
   "outputs": [],
   "source": []
  },
  {
   "cell_type": "code",
   "execution_count": null,
   "id": "2803cb39-5f25-4aa9-885f-fe08c288803d",
   "metadata": {},
   "outputs": [],
   "source": []
  },
  {
   "cell_type": "code",
   "execution_count": null,
   "id": "d2a44b6a-0169-45c4-bad9-0e7f583307d4",
   "metadata": {},
   "outputs": [],
   "source": []
  }
 ],
 "metadata": {
  "kernelspec": {
   "display_name": "Python 3 (ipykernel)",
   "language": "python",
   "name": "python3"
  },
  "language_info": {
   "codemirror_mode": {
    "name": "ipython",
    "version": 3
   },
   "file_extension": ".py",
   "mimetype": "text/x-python",
   "name": "python",
   "nbconvert_exporter": "python",
   "pygments_lexer": "ipython3",
   "version": "3.10.8"
  }
 },
 "nbformat": 4,
 "nbformat_minor": 5
}
